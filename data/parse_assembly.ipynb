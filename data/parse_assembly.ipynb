{
 "cells": [
  {
   "cell_type": "code",
   "execution_count": 7,
   "metadata": {},
   "outputs": [],
   "source": [
    "import gzip\n",
    "import os\n",
    "from subprocess import call\n",
    "from os.path import join, exists"
   ]
  },
  {
   "cell_type": "code",
   "execution_count": 8,
   "metadata": {},
   "outputs": [],
   "source": [
    "files = [\n",
    "    \"Triticum_aestivum.IWGSC.dna.toplevel.fa.gz\",\n",
    "#     \"Zea_mays.B73_RefGen_v4.dna.toplevel.fa.gz\",\n",
    "#     \"Oryza_sativa.IRGSP-1.0.dna.toplevel.fa.gz\"\n",
    "#     \"Arabidopsis_thaliana.TAIR10.dna.toplevel.fa.gz\",\n",
    "#     \"Solanum_lycopersicum.SL3.0.dna.toplevel.fa.gz\",\n",
    "#     \"Gossypium_raimondii.Graimondii2_0.dna.toplevel.fa.gz\",\n",
    "#     \"Solanum_tuberosum.SolTub_3.0.dna.toplevel.fa.gz\",\n",
    "]\n",
    "assembly_out = \"assemblies\""
   ]
  },
  {
   "cell_type": "code",
   "execution_count": 9,
   "metadata": {},
   "outputs": [
    {
     "name": "stdout",
     "output_type": "stream",
     "text": [
      "Parsing Triticum_aestivum.IWGSC.dna.toplevel.fa.gz ...\n",
      "Parsing Triticum_aestivum.IWGSC.dna.toplevel.fa.gz ... done\n"
     ]
    }
   ],
   "source": [
    "# Parse chromosome names\n",
    "parsed_files = []\n",
    "for file in files:\n",
    "    do_skip = False\n",
    "    print(\"Parsing {} ...\".format(file))\n",
    "    basefile = \".\".join(os.path.splitext(file)[0].split(\".\")[0:-3]) + \".fa\"\n",
    "    parsed_files.append(basefile)\n",
    "    if not exists(basefile):\n",
    "        with gzip.open(join(assembly_out, file), 'rb') as f, open(join(assembly_out, basefile), \"w\") as fw:\n",
    "            for line in f:\n",
    "                line = line.decode('utf-8')\n",
    "                if line.startswith(\">\"):\n",
    "                    fields = line.strip().split()\n",
    "                    contig = fields[0].split(\">\")[1].strip()\n",
    "                    if \"dna:chromosome\" in line:\n",
    "                        do_skip = False\n",
    "                    elif \"dna:contig\" in line:\n",
    "                        do_skip = True\n",
    "                    elif \"dna:supercontig\" in line:\n",
    "                        do_skip = True\n",
    "                    elif \"dna:scaffold\" in line:\n",
    "                        do_skip = True\n",
    "                    else:\n",
    "                        print(line)\n",
    "                    contig = \">{}\\n\".format(contig)\n",
    "                    fw.write(contig)\n",
    "                else:\n",
    "                    if not do_skip:\n",
    "                        fw.write(line)\n",
    "    print(\"Parsing {} ... done\".format(file))\n"
   ]
  },
  {
   "cell_type": "code",
   "execution_count": 10,
   "metadata": {},
   "outputs": [
    {
     "name": "stdout",
     "output_type": "stream",
     "text": [
      "makeblastdb -dbtype nucl -in assemblies/Triticum_aestivum.IWGSC.fa -out assemblies/Triticum_aestivum.IWGSC -parse_seqids -max_file_sz 4G\n"
     ]
    }
   ],
   "source": [
    "# FASTA -> BLASTDB\n",
    "for file in parsed_files:\n",
    "    cmd = [\n",
    "        \"makeblastdb\",\n",
    "        \"-dbtype nucl\",\n",
    "        \"-in {}\".format(join(assembly_out, file)),\n",
    "        \"-out {}\".format(join(assembly_out, \".\".join(file.split(\".\")[0:-1]))),\n",
    "        \"-parse_seqids\",\n",
    "        \"-max_file_sz 4G\"\n",
    "    ]\n",
    "    cmd = \" \".join(cmd)\n",
    "    print(cmd)\n",
    "    call(cmd, shell=True)"
   ]
  },
  {
   "cell_type": "code",
   "execution_count": null,
   "metadata": {},
   "outputs": [],
   "source": []
  },
  {
   "cell_type": "code",
   "execution_count": null,
   "metadata": {},
   "outputs": [],
   "source": []
  }
 ],
 "metadata": {
  "kernelspec": {
   "display_name": "Python 3",
   "language": "python",
   "name": "python3"
  },
  "language_info": {
   "codemirror_mode": {
    "name": "ipython",
    "version": 3
   },
   "file_extension": ".py",
   "mimetype": "text/x-python",
   "name": "python",
   "nbconvert_exporter": "python",
   "pygments_lexer": "ipython3",
   "version": "3.7.0"
  }
 },
 "nbformat": 4,
 "nbformat_minor": 2
}
