{
 "cells": [
  {
   "cell_type": "code",
   "execution_count": 1,
   "metadata": {},
   "outputs": [],
   "source": [
    "from ftplib import FTP\n",
    "import pandas as pd\n",
    "from os.path import join, exists\n",
    "import os"
   ]
  },
  {
   "cell_type": "code",
   "execution_count": 2,
   "metadata": {},
   "outputs": [],
   "source": [
    "targets=[\n",
    "#     \"Arabidopsis thaliana\",\n",
    "#     \"Gossypium raimondii\",\n",
    "#     \"Oryza sativa\",\n",
    "#     \"Solanum lycopersicum\",\n",
    "#     \"Solanum tuberosum\",\n",
    "    \"Triticum aestivum\",\n",
    "    \"Zea mays\",\n",
    "]\n",
    "assembly_out = \"assemblies\""
   ]
  },
  {
   "cell_type": "code",
   "execution_count": 3,
   "metadata": {},
   "outputs": [],
   "source": [
    "def retrieve_assembly(ftp, df_index, target, assembly_out=\"\"):\n",
    "    print(\"Retrieving {} ...\".format(target))\n",
    "    row = df_index.loc[df_index[\"#name\"]==target]\n",
    "    target_folder = row[\"species\"].to_string(index=False).strip()\n",
    "    target_filename = row[\"#name\"].to_string(index=False).strip() + \".\" + row[\"assembly\"].to_string(index=False).strip()\n",
    "    target_filename = target_filename.replace(\" \", \"_\")\n",
    "    target_filename += \".dna.toplevel.fa.gz\"\n",
    "    try:\n",
    "        if not exists(join(assembly_out, target_filename)):\n",
    "            ftp.cwd('fasta/' + target_folder + \"/dna\")\n",
    "            ftp.retrbinary('RETR {}'.format(target_filename), open(join(assembly_out, target_filename), 'wb').write)\n",
    "            ftp.cwd('../../..')\n",
    "        print(\"Retrieving {} ... done\".format(target))\n",
    "    except:\n",
    "        ftp.cwd('../../..')\n",
    "        if exists(join(assembly_out, target_filename)):\n",
    "            os.remove(join(assembly_out, target_filename))\n",
    "        print(\"Retrieving {} ... failed - Filname {} not found\".format(target, target_filename))\n",
    "    "
   ]
  },
  {
   "cell_type": "code",
   "execution_count": null,
   "metadata": {},
   "outputs": [
    {
     "data": {
      "text/plain": [
       "'230 Login successful.'"
      ]
     },
     "execution_count": 4,
     "metadata": {},
     "output_type": "execute_result"
    }
   ],
   "source": [
    "# Make paths\n",
    "if not exists(assembly_out):\n",
    "    os.mkdir(assembly_out)\n",
    "\n",
    "# Login to the ensembl ftp server\n",
    "ftp = FTP('ftp.ensemblgenomes.org')\n",
    "ftp.login()"
   ]
  },
  {
   "cell_type": "code",
   "execution_count": null,
   "metadata": {},
   "outputs": [],
   "source": [
    "# Retrieve the latest list of plant species\n",
    "ftp.cwd('pub/current/plants')\n",
    "ftp.retrbinary('RETR species_EnsemblPlants.txt', open('species_EnsemblPlants.txt', 'wb').write)\n",
    "df_index = pd.read_csv('species_EnsemblPlants.txt', sep='\\t', header=0, index_col=False)\n",
    "df_index.loc[df_index[\"#name\"] == \"Oryza sativa Japonica Group\", \"#name\"] = \"Oryza sativa\""
   ]
  },
  {
   "cell_type": "code",
   "execution_count": null,
   "metadata": {},
   "outputs": [
    {
     "name": "stdout",
     "output_type": "stream",
     "text": [
      "Retrieving Arabidopsis thaliana ...\n",
      "Retrieving Arabidopsis thaliana ... done\n",
      "Retrieving Gossypium raimondii ...\n",
      "Retrieving Gossypium raimondii ... done\n",
      "Retrieving Oryza sativa ...\n",
      "Retrieving Oryza sativa ... done\n",
      "Retrieving Solanum lycopersicum ...\n",
      "Retrieving Solanum lycopersicum ... done\n",
      "Retrieving Solanum tuberosum ...\n",
      "Retrieving Solanum tuberosum ... done\n",
      "Retrieving Triticum aestivum ...\n"
     ]
    }
   ],
   "source": [
    "for target in targets:\n",
    "    retrieve_assembly(ftp, df_index, target, assembly_out)"
   ]
  },
  {
   "cell_type": "code",
   "execution_count": null,
   "metadata": {},
   "outputs": [],
   "source": [
    "ftp.retrlines('LIST')"
   ]
  },
  {
   "cell_type": "code",
   "execution_count": null,
   "metadata": {},
   "outputs": [],
   "source": []
  },
  {
   "cell_type": "code",
   "execution_count": null,
   "metadata": {},
   "outputs": [],
   "source": []
  },
  {
   "cell_type": "code",
   "execution_count": null,
   "metadata": {},
   "outputs": [],
   "source": []
  }
 ],
 "metadata": {
  "kernelspec": {
   "display_name": "Python 3",
   "language": "python",
   "name": "python3"
  },
  "language_info": {
   "codemirror_mode": {
    "name": "ipython",
    "version": 3
   },
   "file_extension": ".py",
   "mimetype": "text/x-python",
   "name": "python",
   "nbconvert_exporter": "python",
   "pygments_lexer": "ipython3",
   "version": "3.7.0"
  }
 },
 "nbformat": 4,
 "nbformat_minor": 2
}
